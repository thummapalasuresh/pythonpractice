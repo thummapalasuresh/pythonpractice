{
  "nbformat": 4,
  "nbformat_minor": 0,
  "metadata": {
    "colab": {
      "name": "python Tasks .ipynb",
      "provenance": [],
      "collapsed_sections": [],
      "authorship_tag": "ABX9TyMgnlqdn62WByTPbhX70XKn",
      "include_colab_link": true
    },
    "kernelspec": {
      "name": "python3",
      "display_name": "Python 3"
    },
    "language_info": {
      "name": "python"
    }
  },
  "cells": [
    {
      "cell_type": "markdown",
      "metadata": {
        "id": "view-in-github",
        "colab_type": "text"
      },
      "source": [
        "<a href=\"https://colab.research.google.com/github/thummapalasuresh/pythonpractice/blob/main/python_Tasks_.ipynb\" target=\"_parent\"><img src=\"https://colab.research.google.com/assets/colab-badge.svg\" alt=\"Open In Colab\"/></a>"
      ]
    },
    {
      "cell_type": "markdown",
      "source": [
        "#Task 1 (Inbuilt_Functions)"
      ],
      "metadata": {
        "id": "KNNBT5BPZ7_P"
      }
    },
    {
      "cell_type": "code",
      "source": [
        "var=\" welcome to python\"\n",
        "print(var.find(\"to\"))"
      ],
      "metadata": {
        "colab": {
          "base_uri": "https://localhost:8080/"
        },
        "id": "Vjbq3pEhlWbW",
        "outputId": "5b20251d-d737-43cd-f912-85a5516154d3"
      },
      "execution_count": null,
      "outputs": [
        {
          "output_type": "stream",
          "name": "stdout",
          "text": [
            "9\n"
          ]
        }
      ]
    },
    {
      "cell_type": "code",
      "source": [
        "var=\"welcome to python\"\n",
        "##print(dir(var))\n",
        "cap= var.capitalize()\n",
        "print (\"older\", var)\n",
        "print (\"capital\", cap)\n",
        "print(\"__\" * 10)\n",
        "\n",
        "cap= var.casefold()\n",
        "print (\"older\", var)\n",
        "print (\"capital\", cap)\n",
        "print(\"__\" * 10)\n",
        "\n",
        "var= \"welcome to python\"\n",
        "cap= var.count('l')\n",
        "cap1= var.count('w')\n",
        "print (\"count of the letter l\", cap)\n",
        "print (\"count of the letter w\",cap1)\n",
        "print(\"__\" * 10)\n",
        "\n",
        "var= \"welcome to python\"\n",
        "cap= var.center(20)\n",
        "print (cap)\n",
        "print(\"__\" * 10)\n",
        "\n",
        "\n",
        "var= \"welcome to python\"\n",
        "cap= var.center(50)\n",
        "print (cap)\n",
        "print(\"__\" * 10)\n",
        "\n",
        "var= \"welcome to python\"\n",
        "cap= var.title()\n",
        "print (cap)\n",
        "print(\"__\" * 10)\n",
        "\n",
        "var= \"welcome to python\"\n",
        "cap= var.upper()\n",
        "print (cap)\n",
        "print(\"__\" * 10)\n",
        "\n",
        "var= \"WELCOME TO PYTHON\"\n",
        "cap= var.lower()\n",
        "print (cap)\n",
        "print(\"__\" * 10)\n",
        "\n",
        "var= \"welcome to python\"\n",
        "cap= var.encode()\n",
        "print (cap)\n",
        "\n",
        "\n",
        "\n",
        "\n",
        "\n",
        "\n"
      ],
      "metadata": {
        "colab": {
          "base_uri": "https://localhost:8080/"
        },
        "id": "R50l_6KaaAQa",
        "outputId": "0a092f50-3cde-45ec-d823-e032806976f8"
      },
      "execution_count": null,
      "outputs": [
        {
          "output_type": "stream",
          "name": "stdout",
          "text": [
            "older welcome to python\n",
            "capital Welcome to python\n",
            "____________________\n",
            "older welcome to python\n",
            "capital welcome to python\n",
            "____________________\n",
            "count of the letter l 1\n",
            "count of the letter w 1\n",
            "____________________\n",
            " welcome to python  \n",
            "____________________\n",
            "                welcome to python                 \n",
            "____________________\n",
            "Welcome To Python\n",
            "____________________\n",
            "WELCOME TO PYTHON\n",
            "____________________\n",
            "welcome to python\n",
            "____________________\n",
            "b'welcome to python'\n"
          ]
        }
      ]
    },
    {
      "cell_type": "markdown",
      "source": [
        "#Task 2"
      ],
      "metadata": {
        "id": "4sWNFQ4Rdv2D"
      }
    },
    {
      "cell_type": "code",
      "source": [
        "str1= \"welcome to python\"\n",
        "str2= var.find(\"to\")\n",
        "print (str2)"
      ],
      "metadata": {
        "colab": {
          "base_uri": "https://localhost:8080/"
        },
        "id": "f_vOr6YJdx5h",
        "outputId": "d0e2838e-0853-4c60-ceb4-a58702a1cc3d"
      },
      "execution_count": null,
      "outputs": [
        {
          "output_type": "stream",
          "name": "stdout",
          "text": [
            "8\n"
          ]
        }
      ]
    },
    {
      "cell_type": "code",
      "source": [
        "str=\"welcome to python\"\n",
        "if \"to\" in str:\n",
        "  print(\"success\")\n",
        "  print(str)\n",
        "else:\n",
        "  print(\"Failure\")"
      ],
      "metadata": {
        "colab": {
          "base_uri": "https://localhost:8080/"
        },
        "id": "OYGRCB7MflaK",
        "outputId": "8d4e5789-22f3-440a-fd77-6caafa68c06b"
      },
      "execution_count": null,
      "outputs": [
        {
          "output_type": "stream",
          "name": "stdout",
          "text": [
            "success\n",
            "welcome to python\n"
          ]
        }
      ]
    },
    {
      "cell_type": "markdown",
      "source": [
        "#Task 3 [LISTS]"
      ],
      "metadata": {
        "id": "al3O0Y2Rg6yu"
      }
    },
    {
      "cell_type": "code",
      "source": [
        "var= [1,2,3,4,5,\"dharma\",7,8,\"satya\",10]\n",
        "print(len(var))\n",
        "var1= [var[5], var[8]]\n",
        "print (var1)\n"
      ],
      "metadata": {
        "colab": {
          "base_uri": "https://localhost:8080/"
        },
        "id": "cfV8u8UIzQK-",
        "outputId": "e963215a-3d83-4cb2-a6aa-9187b5232b19"
      },
      "execution_count": null,
      "outputs": [
        {
          "output_type": "stream",
          "name": "stdout",
          "text": [
            "10\n",
            "['dharma', 'satya']\n"
          ]
        }
      ]
    },
    {
      "cell_type": "markdown",
      "source": [
        "#Task 4 [LISTS]"
      ],
      "metadata": {
        "id": "Up9DaXNvAU0r"
      }
    },
    {
      "cell_type": "code",
      "source": [
        "l1 = [10, 20, [30, 40, [50, 60], 80], 90, 100]\n",
        "l1[2][2].append(70)\n",
        "print(l1)\n",
        "\n",
        "\n",
        "\n"
      ],
      "metadata": {
        "colab": {
          "base_uri": "https://localhost:8080/"
        },
        "id": "IRSiF_iszYoZ",
        "outputId": "1595db44-b79b-4640-a0c7-bf937534da7e"
      },
      "execution_count": null,
      "outputs": [
        {
          "output_type": "stream",
          "name": "stdout",
          "text": [
            "[10, 20, [30, 40, [50, 60, 70], 80], 90, 100]\n"
          ]
        }
      ]
    },
    {
      "cell_type": "code",
      "source": [
        ""
      ],
      "metadata": {
        "id": "ch95Fe5d52QP"
      },
      "execution_count": null,
      "outputs": []
    },
    {
      "cell_type": "code",
      "source": [
        "l2 = [1,2,[3,4,5,6],9]\n",
        "l2[2].append([7,8])\n",
        "print(l2)"
      ],
      "metadata": {
        "colab": {
          "base_uri": "https://localhost:8080/"
        },
        "id": "7X9QZbo9-tJ0",
        "outputId": "5f782b7e-f16f-4436-9291-2f45115ec343"
      },
      "execution_count": null,
      "outputs": [
        {
          "output_type": "stream",
          "name": "stdout",
          "text": [
            "[1, 2, [3, 4, 5, 6, [7, 8]], 9]\n"
          ]
        }
      ]
    },
    {
      "cell_type": "markdown",
      "source": [
        "#Task 5 {DICTIONORIES}"
      ],
      "metadata": {
        "id": "k5pPwTgfA59Q"
      }
    },
    {
      "cell_type": "code",
      "source": [
        "dict1 = { \n",
        "   \"april_batch\":{ \n",
        "      \"student\":{ \n",
        "         \"name\":\"Mike\",\n",
        "         \"marks\":{ \n",
        "            \"python\":80,\n",
        "            \"maths\":70 \n",
        "         }\n",
        "      }\n",
        "   }\n",
        "}\n",
        "\n",
        "#print(\"__\" *10)\n",
        "name=dict1[\"april_batch\"][\"student\"][\"name\"]\n",
        "print (name)\n",
        "marks=dict1[\"april_batch\"][\"student\"][\"marks\"][\"python\"]\n",
        "print(marks)\n",
        "myname=dict1[\"april_batch\"][\"student\"][\"name\"]=\"Suresh\"\n",
        "print(myname)\n",
        "dict1[\"april_batch\"][\"student\"][\"marks\"][\"ml\"]=80\n",
        "#if we want to add single data \n",
        "print(dict1)"
      ],
      "metadata": {
        "colab": {
          "base_uri": "https://localhost:8080/"
        },
        "id": "q7NCvDuBA-09",
        "outputId": "bde887d8-b09c-4e9c-cc42-ed7a1ea63570"
      },
      "execution_count": null,
      "outputs": [
        {
          "output_type": "stream",
          "name": "stdout",
          "text": [
            "Mike\n",
            "80\n",
            "Suresh\n",
            "{'april_batch': {'student': {'name': 'Suresh', 'marks': {'python': 80, 'maths': 70, 'ml': 80}}}}\n"
          ]
        }
      ]
    },
    {
      "cell_type": "code",
      "source": [
        "dict1 = { \n",
        "   \"april_batch\":{ \n",
        "      \"student\":{ \n",
        "         \"name\":\"Mike\",\n",
        "         \"marks\":{ \n",
        "            \"python\":80,\n",
        "            \"maths\":70 \n",
        "         }\n",
        "      }\n",
        "   }\n",
        "}\n",
        "\n",
        "#print(\"__\" *10)\n",
        "name=dict1[\"april_batch\"][\"student\"][\"name\"]\n",
        "print (name)\n",
        "marks=dict1[\"april_batch\"][\"student\"][\"marks\"][\"python\"]\n",
        "print(marks)\n",
        "myname=dict1[\"april_batch\"][\"student\"][\"name\"]=\"Suresh\"\n",
        "print(myname)\n",
        "#to add more than one data in dictionary\n",
        "upd={'ML':80, \"DL\":80}\n",
        "dict1[\"april_batch\"][\"student\"][\"marks\"].update(upd)\n",
        "print(dict1)"
      ],
      "metadata": {
        "colab": {
          "base_uri": "https://localhost:8080/"
        },
        "id": "XVlb1QeQicdY",
        "outputId": "6c5fcab4-c2bc-40ef-f432-65a5cdec708c"
      },
      "execution_count": null,
      "outputs": [
        {
          "output_type": "stream",
          "name": "stdout",
          "text": [
            "Mike\n",
            "80\n",
            "Suresh\n",
            "{'april_batch': {'student': {'name': 'Suresh', 'marks': {'python': 80, 'maths': 70, 'ML': 80, 'DL': 80}}}}\n"
          ]
        }
      ]
    },
    {
      "cell_type": "code",
      "source": [
        ""
      ],
      "metadata": {
        "id": "dYgEwzMflgX6"
      },
      "execution_count": null,
      "outputs": []
    },
    {
      "cell_type": "markdown",
      "source": [
        "#Task6 - Add and remove the elements from a tuple"
      ],
      "metadata": {
        "id": "XZAAc7pVln9-"
      }
    },
    {
      "cell_type": "markdown",
      "source": [
        "tuple is an immutable so to do any mdifications like add or remove the data in tuple initially convert the tuple into list and later do modifications which we required."
      ],
      "metadata": {
        "id": "YsE39BoPotga"
      }
    },
    {
      "cell_type": "code",
      "source": [
        "fruits= (\"orange\", \"banana\", \"apple\", \"mango\", \"watermelon\", \"kiwi\")\n",
        "list1=list(fruits) #conert into list\n",
        "list1[3]=\"Guava\"\n",
        "print (list1)\n",
        "\n",
        "list2=list(fruits)\n",
        "list2.append(\"Sugarcane\") #append function used to add\n",
        "print(list2)\n",
        "\n",
        "list3=list(fruits)\n",
        "list3.remove(\"kiwi\") #remove function used to remove the element\n",
        "print(list3)\n",
        "\n"
      ],
      "metadata": {
        "colab": {
          "base_uri": "https://localhost:8080/"
        },
        "id": "h9tEUQK7pOSD",
        "outputId": "c02991a3-9230-4e79-d401-16b25f55bf5b"
      },
      "execution_count": null,
      "outputs": [
        {
          "output_type": "stream",
          "name": "stdout",
          "text": [
            "['orange', 'banana', 'apple', 'Guava', 'watermelon', 'kiwi']\n",
            "['orange', 'banana', 'apple', 'mango', 'watermelon', 'kiwi', 'Sugarcane']\n",
            "['orange', 'banana', 'apple', 'mango', 'watermelon']\n"
          ]
        }
      ]
    },
    {
      "cell_type": "markdown",
      "source": [
        ""
      ],
      "metadata": {
        "id": "fG8iavPRxmuM"
      }
    },
    {
      "cell_type": "code",
      "source": [
        ""
      ],
      "metadata": {
        "id": "g-aCI7g8uS_6"
      },
      "execution_count": null,
      "outputs": []
    },
    {
      "cell_type": "markdown",
      "source": [
        "#TASK 7"
      ],
      "metadata": {
        "id": "4Lh2kBHO2lVX"
      }
    },
    {
      "cell_type": "markdown",
      "source": [
        "Difference:"
      ],
      "metadata": {
        "id": "YjjpUVDPxZ3K"
      }
    },
    {
      "cell_type": "code",
      "source": [
        "\n",
        "x = {\"apple\", \"banana\", \"cherry\"}\n",
        "y = {\"google\", \"microsoft\", \"apple\"}\n",
        "\n",
        "z = x.difference(y)\n",
        "\n",
        "print(z)"
      ],
      "metadata": {
        "colab": {
          "base_uri": "https://localhost:8080/"
        },
        "id": "_lxxetBDpKn1",
        "outputId": "2989c28d-277b-4a91-b202-aeb1de959253"
      },
      "execution_count": null,
      "outputs": [
        {
          "output_type": "stream",
          "name": "stdout",
          "text": [
            "{'cherry', 'banana'}\n"
          ]
        }
      ]
    },
    {
      "cell_type": "code",
      "source": [
        "\n",
        "x = {\"apple\", \"banana\", \"cherry\"}\n",
        "y = {\"google\", \"microsoft\", \"apple\"}\n",
        "\n",
        "z = y.difference(x)\n",
        "\n",
        "print(z)"
      ],
      "metadata": {
        "colab": {
          "base_uri": "https://localhost:8080/"
        },
        "id": "IBMJ9qG-p19y",
        "outputId": "dce8c198-0013-4c35-fb68-f16c4c70cefa"
      },
      "execution_count": null,
      "outputs": [
        {
          "output_type": "stream",
          "name": "stdout",
          "text": [
            "{'microsoft', 'google'}\n"
          ]
        }
      ]
    },
    {
      "cell_type": "markdown",
      "source": [
        "Symmetric_Differeence"
      ],
      "metadata": {
        "id": "JGmJJNI1xke2"
      }
    },
    {
      "cell_type": "code",
      "source": [
        "x = {\"apple\", \"banana\", \"cherry\"}\n",
        "y = {\"google\", \"microsoft\", \"apple\"}\n",
        "\n",
        "z = x.symmetric_difference(y) #Return a set that contains all items from both sets, except items that are present in both sets:\n",
        "\n",
        "print(z)"
      ],
      "metadata": {
        "colab": {
          "base_uri": "https://localhost:8080/"
        },
        "id": "DnOgchkbxpIU",
        "outputId": "6b531646-7f9b-46c1-90db-de2b3aa53c8d"
      },
      "execution_count": 2,
      "outputs": [
        {
          "output_type": "stream",
          "name": "stdout",
          "text": [
            "{'banana', 'cherry', 'microsoft', 'google'}\n"
          ]
        }
      ]
    },
    {
      "cell_type": "markdown",
      "source": [
        "#Task8"
      ],
      "metadata": {
        "id": "5TUCart62-81"
      }
    },
    {
      "cell_type": "code",
      "source": [
        "\"\"\"LISTS:\n",
        "\n",
        "mylist = [\"apple\", \"banana\", \"cherry\"]\n",
        "\n",
        "Lists are created using square brackets:\n",
        "\n",
        "Lists are used to store multiple items in a single variable.\n",
        "\n",
        "List items are ordered, changeable, and allow duplicate values. [\"MUTABLE\"]\n",
        "\n",
        "List items are indexed, the first item has index [0], the second item has index [1] etc. \"\"\"\n",
        "\n"
      ],
      "metadata": {
        "id": "bD1EpoRwy6jk"
      },
      "execution_count": null,
      "outputs": []
    },
    {
      "cell_type": "code",
      "source": [
        "\"\"\" Tuples\n",
        "\n",
        "mytuple = (\"apple\", \"banana\", \"cherry\") \n",
        "\n",
        "Tuples are used to store multiple items in a single variable.\n",
        "\n",
        "Tuples are written with round brackets\n",
        "\n",
        "Tuple items are ordered, unchangeable, and allow duplicate values. (\"IMMUTABLE\")\n",
        "\n",
        "Tuples are unchangeable, meaning that we cannot change, add or remove items after the tuple has been created.\"\"\"\n",
        "\n"
      ],
      "metadata": {
        "id": "AovSy4o8zfEL"
      },
      "execution_count": null,
      "outputs": []
    },
    {
      "cell_type": "code",
      "source": [
        "\"\"\" myset = {\"apple\", \"banana\", \"cherry\"}\n",
        "\n",
        "Sets are used to store multiple items in a single variable.\n",
        "\n",
        "Set items are unordered, unchangeable, and do not allow duplicate values.\n",
        "\n",
        "Set items can appear in a different order every time you use them, and cannot be referred to by index or key.\n",
        "\n",
        "Set items are unchangeable, meaning that we cannot change the items after the set has been created\"\n",
        "\n",
        "set does not allow the duplicate values \"\"\""
      ],
      "metadata": {
        "id": "EvSTTARF0T9Z"
      },
      "execution_count": null,
      "outputs": []
    },
    {
      "cell_type": "code",
      "source": [
        "\"\"\" thisdict = {\n",
        "  \"brand\": \"Ford\",\n",
        "  \"model\": \"Mustang\",\n",
        "  \"year\": 1964\n",
        "}\n",
        "\n",
        "Dictionaries are used to store data values in key:value pairs.\n",
        "\n",
        "A dictionary is a collection which is ordered*, changeable and do not allow duplicates.\n",
        "\n",
        "Dictionaries are written with curly brackets, and have keys and values\n",
        "\n",
        "The dictionaries are ordered, it means that the items have a defined order, and that order will not change.\n",
        "\n",
        "Duplicates Not Allowed in Dictionaries \"\"\""
      ],
      "metadata": {
        "id": "VW4YwweD1qef"
      },
      "execution_count": null,
      "outputs": []
    },
    {
      "cell_type": "markdown",
      "source": [
        "#Task 9"
      ],
      "metadata": {
        "id": "DE_zIx3T2x4j"
      }
    },
    {
      "cell_type": "code",
      "source": [
        "a=10\n",
        "b=30\n",
        "c=int(input(\"enter the numbers\"))\n",
        "if c==1:\n",
        "  print(a+b, \"=sum of two numbers\")\n",
        "elif c==2:\n",
        "  print(b-a, \"=sub of two numbers\")\n",
        "elif c==3:\n",
        "  print(a*b, \"=mul of the two numbers\")\n",
        "elif c==4:\n",
        "  print(b/a, \"div of the two numbers\")\n",
        "else:\n",
        "  print(\"sorry code not registered here\")"
      ],
      "metadata": {
        "id": "35jqIo2o2v6H"
      },
      "execution_count": null,
      "outputs": []
    },
    {
      "cell_type": "markdown",
      "source": [
        "#TASk 10"
      ],
      "metadata": {
        "id": "677RtSbX3MpU"
      }
    },
    {
      "cell_type": "code",
      "source": [
        "i = 10\n",
        "while(i>1):\n",
        "    print(i)\n",
        "    i -= 1\n",
        "print (i)"
      ],
      "metadata": {
        "colab": {
          "base_uri": "https://localhost:8080/"
        },
        "id": "D1gCGFGr3Pzq",
        "outputId": "1b427cc0-d864-4db7-b189-4710b0aea293"
      },
      "execution_count": 22,
      "outputs": [
        {
          "output_type": "stream",
          "name": "stdout",
          "text": [
            "10\n",
            "9\n",
            "8\n",
            "7\n",
            "6\n",
            "5\n",
            "4\n",
            "3\n",
            "2\n",
            "1\n"
          ]
        }
      ]
    },
    {
      "cell_type": "markdown",
      "source": [
        "#Try using for loop to loop over tuples,sets and dictionaries"
      ],
      "metadata": {
        "id": "g7_v-N9k6OE6"
      }
    },
    {
      "cell_type": "code",
      "source": [
        "#Python for loop example with list.\n",
        "\n",
        "names = [\"Suresh\", \"Reshma\", \"Rinky\"]\n",
        "for x in names:\n",
        "  print(x) "
      ],
      "metadata": {
        "colab": {
          "base_uri": "https://localhost:8080/"
        },
        "id": "Rot3LFKQ6jfJ",
        "outputId": "c9d06e5c-5ed2-4cd7-83ee-854813cbceec"
      },
      "execution_count": 24,
      "outputs": [
        {
          "output_type": "stream",
          "name": "stdout",
          "text": [
            "Suresh\n",
            "Reshma\n",
            "Rinky\n"
          ]
        }
      ]
    },
    {
      "cell_type": "code",
      "source": [
        "#python loop example with string\n",
        "name = \"alex\"\n",
        "for x in name:\n",
        "  print(x) "
      ],
      "metadata": {
        "colab": {
          "base_uri": "https://localhost:8080/"
        },
        "id": "n1acUwFc60vN",
        "outputId": "3eda6f77-3a82-4e5d-d4c8-58559c4629f4"
      },
      "execution_count": 26,
      "outputs": [
        {
          "output_type": "stream",
          "name": "stdout",
          "text": [
            "a\n",
            "l\n",
            "e\n",
            "x\n"
          ]
        }
      ]
    },
    {
      "cell_type": "code",
      "source": [
        "# python loop for tuple\n",
        "\n",
        "thistuple = (\"apple\", \"banana\", \"cherry\")\n",
        "for x in thistuple:\n",
        "  print(x)"
      ],
      "metadata": {
        "colab": {
          "base_uri": "https://localhost:8080/"
        },
        "id": "pagKHfYE-sPO",
        "outputId": "5960d5c7-3d26-4c01-92f2-5c0baf093d06"
      },
      "execution_count": 27,
      "outputs": [
        {
          "output_type": "stream",
          "name": "stdout",
          "text": [
            "apple\n",
            "banana\n",
            "cherry\n"
          ]
        }
      ]
    },
    {
      "cell_type": "code",
      "source": [
        "# python loop for set\n",
        "\n",
        "colorSet = set([\"red\",\"green\",\"blue\"])\n",
        " \n",
        "for color in colorSet:\n",
        "    print(color)"
      ],
      "metadata": {
        "colab": {
          "base_uri": "https://localhost:8080/"
        },
        "id": "DnABc4TW6WJk",
        "outputId": "29305e69-60b8-4c30-a9e6-f2c7620c8110"
      },
      "execution_count": 28,
      "outputs": [
        {
          "output_type": "stream",
          "name": "stdout",
          "text": [
            "red\n",
            "green\n",
            "blue\n"
          ]
        }
      ]
    },
    {
      "cell_type": "code",
      "source": [
        "# python loop for dictionary\n",
        "\n",
        "colors_dict = {'color': 'blue', 'fruit': 'apple', 'pet': 'dog'}\n",
        " \n",
        "for key in colors_dict.keys():\n",
        "    print(key)\n",
        " \n",
        "for item in colors_dict.items():\n",
        "    print(item)"
      ],
      "metadata": {
        "colab": {
          "base_uri": "https://localhost:8080/"
        },
        "id": "vi6e5GtvABAL",
        "outputId": "1fcf6163-97d6-4fe3-9bf3-fa53f535cd6d"
      },
      "execution_count": 30,
      "outputs": [
        {
          "output_type": "stream",
          "name": "stdout",
          "text": [
            "color\n",
            "fruit\n",
            "pet\n",
            "('color', 'blue')\n",
            "('fruit', 'apple')\n",
            "('pet', 'dog')\n"
          ]
        }
      ]
    },
    {
      "cell_type": "markdown",
      "source": [
        "#  what is the uasge of continue wiith an example."
      ],
      "metadata": {
        "id": "tTFklHVdAarB"
      }
    },
    {
      "cell_type": "markdown",
      "source": [
        "**The continue keyword is used to end the current iteration in a for loop (or a while loop), and continues to the next iteration.**"
      ],
      "metadata": {
        "id": "EDlP5bM7DVu-"
      }
    },
    {
      "cell_type": "code",
      "source": [
        "for i in range(9):\n",
        "  if i == 3:\n",
        "    continue\n",
        "  print(i)"
      ],
      "metadata": {
        "colab": {
          "base_uri": "https://localhost:8080/"
        },
        "id": "yx3f0XHjAfXl",
        "outputId": "b90aeeb4-0634-47ac-9c60-3fc4890ec909"
      },
      "execution_count": 31,
      "outputs": [
        {
          "output_type": "stream",
          "name": "stdout",
          "text": [
            "0\n",
            "1\n",
            "2\n",
            "4\n",
            "5\n",
            "6\n",
            "7\n",
            "8\n"
          ]
        }
      ]
    },
    {
      "cell_type": "code",
      "source": [
        "i = 0\n",
        "while i < 9:\n",
        "  i += 1\n",
        "  if i == 3:\n",
        "    continue\n",
        "  print(i)"
      ],
      "metadata": {
        "colab": {
          "base_uri": "https://localhost:8080/"
        },
        "id": "YnbghU0XC8Zu",
        "outputId": "56e1a29b-3a65-476f-e9d8-0307734436ef"
      },
      "execution_count": 33,
      "outputs": [
        {
          "output_type": "stream",
          "name": "stdout",
          "text": [
            "1\n",
            "2\n",
            "4\n",
            "5\n",
            "6\n",
            "7\n",
            "8\n",
            "9\n"
          ]
        }
      ]
    },
    {
      "cell_type": "markdown",
      "source": [
        "#What is pass keyword, with example."
      ],
      "metadata": {
        "id": "l2FkxRTPDid6"
      }
    },
    {
      "cell_type": "markdown",
      "source": [
        "The pass statement is used as a placeholder for future code.\n",
        "When the pass statement is executed, nothing happens, but you avoid getting an error when empty code is not allowed."
      ],
      "metadata": {
        "id": "oCgAbj8pD7NF"
      }
    },
    {
      "cell_type": "code",
      "source": [
        "for i in range(9):\n",
        "  if i == 3:\n",
        "    pass\n",
        "  print(i)"
      ],
      "metadata": {
        "colab": {
          "base_uri": "https://localhost:8080/"
        },
        "id": "bwkwEfN7EKDr",
        "outputId": "786ea8b8-659f-4682-bee4-10d123a757f0"
      },
      "execution_count": 34,
      "outputs": [
        {
          "output_type": "stream",
          "name": "stdout",
          "text": [
            "0\n",
            "1\n",
            "2\n",
            "3\n",
            "4\n",
            "5\n",
            "6\n",
            "7\n",
            "8\n"
          ]
        }
      ]
    },
    {
      "cell_type": "markdown",
      "source": [
        "#TASK 11.1 Explain Return keyword with example."
      ],
      "metadata": {
        "id": "uDgC-DGZH2k-"
      }
    },
    {
      "cell_type": "markdown",
      "source": [
        "**The return keyword is to exit a function and return a value.**"
      ],
      "metadata": {
        "id": "MaKTUNnuIkog"
      }
    },
    {
      "cell_type": "code",
      "source": [
        "def fun(a,b):\n",
        "  return a+b\n",
        "fun(3,4)"
      ],
      "metadata": {
        "colab": {
          "base_uri": "https://localhost:8080/"
        },
        "id": "6qFfaixlIEX5",
        "outputId": "652f7330-1703-4641-8e22-7d2e2cd7b525"
      },
      "execution_count": 35,
      "outputs": [
        {
          "output_type": "execute_result",
          "data": {
            "text/plain": [
              "7"
            ]
          },
          "metadata": {},
          "execution_count": 35
        }
      ]
    },
    {
      "cell_type": "code",
      "source": [
        "press= int(input(\"enter the number\"))\n",
        "def fun(num1, num2):\n",
        "  if press==1:\n",
        "    return (num1+num2, \"addition\")\n",
        "  if press==2:\n",
        "    return (num1-num2, \"subsraction\")\n",
        "  if press==3:\n",
        "    return (num1*num2, \"mu;tiplication\")\n",
        "  if press==4:\n",
        "    return (num1/num2, \"Division\")\n",
        "  else:\n",
        "    return(\"sorry code not valid\")\n",
        "fun(15,10)"
      ],
      "metadata": {
        "colab": {
          "base_uri": "https://localhost:8080/"
        },
        "id": "KjNHIyw5Vtn6",
        "outputId": "4b0d50f0-e4f3-43a7-92dc-47b69282b8f8"
      },
      "execution_count": 42,
      "outputs": [
        {
          "name": "stdout",
          "output_type": "stream",
          "text": [
            "enter the number2\n"
          ]
        },
        {
          "output_type": "execute_result",
          "data": {
            "text/plain": [
              "(5, 'subsraction')"
            ]
          },
          "metadata": {},
          "execution_count": 42
        }
      ]
    }
  ]
}